{
  "nbformat": 4,
  "nbformat_minor": 0,
  "metadata": {
    "colab": {
      "name": "Heart Attack Classifications.ipynb",
      "private_outputs": true,
      "provenance": [],
      "collapsed_sections": [],
      "mount_file_id": "1yXJYPkrqQ2PV5MCraSXhcYKvQMWJloxt",
      "authorship_tag": "ABX9TyM7dp4aBhAtAHn0edOfYj4g",
      "include_colab_link": true
    },
    "kernelspec": {
      "name": "python3",
      "display_name": "Python 3"
    },
    "language_info": {
      "name": "python"
    },
    "accelerator": "GPU"
  },
  "cells": [
    {
      "cell_type": "markdown",
      "metadata": {
        "id": "view-in-github",
        "colab_type": "text"
      },
      "source": [
        "<a href=\"https://colab.research.google.com/github/DimaUd/Heart-Attack/blob/main/Heart_Attack_Classifications.ipynb\" target=\"_parent\"><img src=\"https://colab.research.google.com/assets/colab-badge.svg\" alt=\"Open In Colab\"/></a>"
      ]
    },
    {
      "cell_type": "markdown",
      "metadata": {
        "id": "ZFnRR6DW2iS7"
      },
      "source": [
        "\n",
        "# דוגמה לשימוש בלמידה מונחית\n",
        "##בצורה פרויקטלית בהתאם לשלבים של מחזור חיים בפרויקט לימוד מכונה\n",
        "## מטרה להכיר איך נראה פרויקט של למידת מכונה תוך כדי שימוש בגישת למידת מכונה עם הנחיה\n",
        "## :בפרויקט זה נשתמש בעיקר בספריות \n",
        "\n",
        "\n",
        "\n",
        "\n",
        "* [scikit-learn](https://scikit-learn.org/stable/#)- עבור ישום מודלים והכנת נתונים\n",
        "* [pandas](https://pandas.pydata.org/docs/user_guide/index.html)- סידור נתונים ובדיקתם\n",
        "* [matplotlib](https://matplotlib.org/) & [seaborn](https://seaborn.pydata.org/)- עבור ויזואליזציה של נתונים\n",
        "* [numpy](https://numpy.org/doc/stable/reference/generated/numpy.argmax.html#numpy.argmax) - חישובים אלגבריים\n",
        "\n",
        "\n",
        "\n",
        "---\n",
        "* [KNN](https://docs.google.com/document/d/1f1AezrCGfuBdZ6Xi_jfTCAp-USfMQc09oc17YMyojYs/edit?usp=sharing) :הצגת עבודה של אלגוריתם \n",
        "\n",
        "\n",
        "![HeartDisease.jpg](https://archive.ics.uci.edu/ml/assets/MLimages/Large45.jpg)\n"
      ]
    },
    {
      "cell_type": "markdown",
      "metadata": {
        "id": "v3oa0kFKECgg"
      },
      "source": [
        "# **Business Understanding**"
      ]
    },
    {
      "cell_type": "markdown",
      "metadata": {
        "id": "Y1LWZCYMDDQs"
      },
      "source": [
        " # **( [Heart attack](https://www.infomed.co.il/diseases/heart-attack/))  התקף לב**\n",
        "##### התקף לב הוא אירוע המתרחש על פי רוב כאשר קריש דם חוסם את זרימת הדם בעורק \n",
        "##### הכלילי – כלי דם המעביר דם אל חלק משריר הלב. הפרעה בזרימת הדם אל הלב עלולה\n",
        "##### לפגוע בחלק משריר הלב, או להרוס אותו \n",
        "\n",
        "##### בעבר, התקפי לב הסתיימו לעתים קרובות במוות. הודות למודעות הגוברת לסימנים \n",
        "##### ולתסמינים של התקפי לב ולשיפור בטיפול, כיום רב האנשים הלוקים בהתקף לב נשארים בחיים\n",
        "\n",
        " **סיבות וגורמי סיכון**\n",
        " ##### המונח הרפואי של התקף לב הוא \"אוטם שריר הלב\". מיו- משמעו שריר, קרדיו פירושו לב, אינפרקט פירושו מוות של רקמה, כתוצאה ממחסור בחמצן. כמו כל שריר אחר, גם הלב זקוק לאספקה סדירה וקבועה של דם. ללא דם, תאי הלב נפגעים, באופן שגורם לכאב או לחץ. אם אספקת הדם אינה מתחדשת, תאי הלב עלולים למות ובמקרה כזה יכולה להיווצר רקמת צלקת, במקום רקמת לב פעילה. זרימה בלתי מספקת של דם אל הלב, יכולה לגרום להפרעה בקצב הלב שעלולה להיות קטלנית.\n",
        "\n",
        " ##### אוטם שריר הלב מתרחש כאשר יש סתימה באחד או בכמה מהעורקים המספקים דם עשיר בחמצן ללב. עורקים אלו נקראים עורקים כליליים והם מקיפים את הלב כמו כתר. עם הזמן, עורק כלילי נהיה צר יותר כתוצאה מהצטברות שכבה של כולסטרול. הצטברות שכבה זו – המוכרת בשם הכולל פלאקס - בעורקים בכל חלקי הגוף, מכונה בשם טרשת עורקים (אתרוסקלרוזיס) .\n",
        "\n",
        " ##### בזמן שמתרחש אוטם שריר הלב, הפלאקס עלול להיקרע וכתוצאה מכך נוצר במקום הקרע קריש דם. אם קריש הדם גדול מספיק, הוא עלול לחסום את זרימת הדם דרך העורק. מצב בו עורקים כליליים מוצרים כתוצאה מטרשת העורקים, מכונה בשם מחלת טרשת העורקים. מחלת טרשת העורקים היא הגורם העיקרי בהא הידיעה להתקפי לב.\n",
        "\n",
        " ##### גורם לא נפוץ של אוטם שריר הלב הוא עווית או פרכוס בעורק כלילי, שעוצר את זרימת הדם אל חלק משריר הלב. סמים כמו קוקאין עלולים לגרום לעווית קטלנית שכזו.\n",
        "\n",
        " ##### גורמים מסוימים, המכונים גורמי סיכון כליליים, מעלים את הסיכון ללקות בהתקף לב. גורמים אלו תורמים להיווצרות הבלתי רצויה של שכבות (טרשת עורקים) שמצרות את העורקים בכל הגוף, כולל עורקים המובילים אל הלב. \n",
        "\n",
        " ###  גורמי הסיכון לפקקת (תרומבוזה) בעורק כלילי כוללים\n",
        "\n",
        "* עישון טבק \n",
        "\n",
        "* לחץ דם גבוה. עם הזמן, לחץ דם גבוה עלול לפגוע בעורקים המזינים את הלב, בכך שהוא מאיץ טרשת עורקים.\n",
        "\n",
        "* רמה גבוהה של כולסטרול או טריגליצרידים בדם\n",
        "\n",
        "* פעילות גופנית לוקה בחסר\n",
        "* השמנת יתר. לאנשים שמנים במיוחד יש יחס גבוה של שומן גוף (מסת גוף בשיעור של 30 או יותר)\n",
        "* סוכרת\n",
        "* מתח\n",
        "* אלכוהול. כאשר הוא נצרך במתינות, אלכוהול מסייע בהעלאת רמות ה-HDL – הכולסטרול ה\"טוב\" – ויכול להגן מפני התקפי לב\n",
        "* היסטוריה משפחתית של התקפי לב\n",
        "* (CRP) C אנשים שיש להם רמות גבוהות של הומוציסטיאן, חלבון \n",
        "##### ופיברינוגן נמצאים ברמת סיכון גבוהה יותר למחלת לב\n",
        "\n",
        "# **:מטרת הפרויקט**\n",
        "#####   זיהוי מוקדם של אנשים עם סבירות גבוהה יותר להיתקף לב \n",
        "#####  ידע זה מאפשר לאנשים עם סבירות גבוהה יותר לאירוע לב להתכונן ולנקוט באמצעי כדי למנוע במידת האפשר\n",
        " \n",
        "\n",
        "\n",
        "****\n",
        "\n",
        "**לפני שמתחילים פרויקט צריך להכיר את הנושא שאותו אנחנו הולכים לחקור בצורה מספקת**\n",
        "\n",
        "**בנוסף חשוב להיעזר  במידת האפשר באנשים מתחום הנלמד**\n",
        "\n",
        "\n"
      ]
    },
    {
      "cell_type": "markdown",
      "metadata": {
        "id": "88D31mtnhu-M"
      },
      "source": [
        "#**Data Understanding & Exploration**\n",
        "data source [UCI Machine Learning Repository](https://archive.ics.uci.edu/ml/datasets/Heart+Disease)\n",
        "\n",
        "####1.Hungarian Institute of Cardiology. Budapest: Andras Janosi, M.D.\n",
        "####2.University Hospital, Zurich, Switzerland: William Steinbrunn, M.D.\n",
        "####3.University Hospital, Basel, Switzerland: Matthias Pfisterer, M.D.\n",
        "####4.V.A. Medical Center, Long Beach and Cleveland Clinic Foundation: Robert Detrano, M.D., Ph.D.\n",
        "\n",
        "####**Data Description**\n",
        "\n",
        "This database contains 76 attributes, but all published experiments refer to using a subset of 14 of them. In particular, the Cleveland database is the only one that has been used by ML researchers to this date. The \"goal\" field refers to the presence of heart disease in the patient. It is integer valued from 0 (no presence) to 4. Experiments with the Cleveland database have concentrated on simply attempting to distinguish presence (values 1,2,3,4) from absence (value 0).\n",
        "\n",
        "####**Data Overview**\n",
        "\n",
        "#####Dataset Characteristics: Multivariate\n",
        "#####Number of Instances: 303\n",
        "#####Area: Life\n",
        "#####Attribute Characteristics: Categorical, Integer, Real\n",
        "#####Number of Attributes: 75\n",
        "#####Date Donated: 1988-07-01\n",
        "#####Associated Tasks: Classification\n",
        "#####Missing Values? Yes"
      ]
    },
    {
      "cell_type": "markdown",
      "metadata": {
        "id": "umckc_iiYsVw"
      },
      "source": [
        "\n",
        "**About The Dataset**\n",
        "#####1. Age : Age of the patient     \n",
        "#####2. Sex : Sex of the patient (1 = male, 0 = female)\n",
        "#####3. exang: exercise induced angina (1 = yes; 0 = no)\n",
        "#####4. ca: number of major vessels (0-3)\n",
        "#####5. cp : Chest Pain type chest pain type\n",
        "* Value 1: typical angina\n",
        "* Value 2: atypical angina\n",
        "* Value 3: non-anginal pain\n",
        "* Value 4: asymptomatic\n",
        "\n",
        "#####6. trtbps : resting blood pressure (in mm Hg)\n",
        "#####7. chol : cholestoral in mg/dl fetched via BMI sensor\n",
        "#####8. fbs : (fasting blood sugar > 120 mg/dl) (1 = true; 0 = false)\n",
        "#####9. rest_ecg : resting electrocardiographic results\n",
        "* Value 0: normal\n",
        "* Value 1: having ST-T wave abnormality (T wave inversions and/or ST elevation or depression of > 0.05 mV)\n",
        "* Value 2: showing probable or definite left ventricular hypertrophy by Estes' criteria\n",
        "\n",
        "#####10. thal: 3 = normal; 6 = fixed defect; 7 = reversable defect\n",
        "#####11. thalach : maximum heart rate achieved\n",
        "#####12. oldpeak: ST depression induced by exercise relative to rest\n",
        "#####13. slope: the slope of the peak exercise ST segment\n",
        "* Value 1: upsloping\n",
        "* Value 2: flat\n",
        "* Value 3: downsloping\n",
        "\n",
        "####14. **target : 0 = less chance of heart attack, 1 = more chance of heart attack**"
      ]
    },
    {
      "cell_type": "markdown",
      "metadata": {
        "id": "QFi7RJ_AvZs2"
      },
      "source": [
        "#### כדי לעבוד בצורה נכונה עם הנתונים חשוב מאד להבין ברמה מספיקה מה אומר כל אחד ממשתנים \n",
        "####  להגדיר מה סוג של המשתנה ענין זה משפיעה בצורה רבה על בחירת מודלים ומדדים \n",
        "###  שמסוגלים להתמודד עם סוג מתאים של המשתנים\n",
        "\n",
        "#### וכמובן השפעה רבה על תוצאות המודלים ויכולת הסבר של התוצאות שאנחנו מקבלים\n",
        "\n",
        "#### בנוסף הבנה זו תתרום תרומה מכרעת להרכבת משתנים נוספים והבנת חריגים לא רק ברמה סטטיסטית\n",
        "#### מדען נתונים שרוצה להשיג תוצר איכותי חייב לרדת לפרטים \n"
      ]
    },
    {
      "cell_type": "markdown",
      "metadata": {
        "id": "8pOcx4VQggTQ"
      },
      "source": [
        "### Importing Libraries and Dataset-יבוא ספריות ונתונים להבנת הנתונים"
      ]
    },
    {
      "cell_type": "code",
      "metadata": {
        "id": "3mykIzVPiLM8"
      },
      "source": [
        "#Importing Libraries\n",
        "import numpy as np \n",
        "import pandas as pd\n",
        "import matplotlib.pyplot as plt \n",
        "import seaborn as sns\n",
        "sns.set_style('darkgrid')\n",
        "import warnings\n",
        "warnings.filterwarnings('ignore', category=DeprecationWarning)\n",
        "pd.options.mode.chained_assignment = None\n",
        "pd.options.display.float_format = '{:.2f}'.format\n",
        "pd.set_option('display.max_columns', 40)\n",
        "pd.set_option('display.width', 600)\n",
        "%matplotlib inline \n",
        "\n",
        "from sklearn.model_selection import train_test_split\n",
        "from sklearn.preprocessing import StandardScaler \n",
        "from sklearn.metrics import accuracy_score\n",
        "from sklearn.neighbors import KNeighborsClassifier  "
      ],
      "execution_count": null,
      "outputs": []
    },
    {
      "cell_type": "markdown",
      "metadata": {
        "id": "MOBRjRnskbH1"
      },
      "source": [
        "### Reading The Dataset"
      ]
    },
    {
      "cell_type": "code",
      "metadata": {
        "id": "cwSCMvX4jd1d"
      },
      "source": [
        "# Dataset on my github-page\n",
        "url='https://github.com/DimaUd/Heart-Attack-/blob/main/heart.csv?raw=true'\n",
        "heart_data =pd.read_csv(url,)\n",
        "display(heart_data.head())\n",
        "display(heart_data.tail())"
      ],
      "execution_count": null,
      "outputs": []
    },
    {
      "cell_type": "markdown",
      "metadata": {
        "id": "VNRe0C3Vq2I5"
      },
      "source": [
        "### Descriptive statistics\n",
        " "
      ]
    },
    {
      "cell_type": "markdown",
      "metadata": {
        "id": "h_SLucTBN9g6"
      },
      "source": [
        "#### Generale Dataset  Statistics"
      ]
    },
    {
      "cell_type": "code",
      "metadata": {
        "id": "_mCsIMyXsVNS"
      },
      "source": [
        "display(heart_data.describe(include = 'all').T)\n",
        "print(\"=========================================\")\n",
        "print(\"The shape of the dataset is : \", heart_data.shape)"
      ],
      "execution_count": null,
      "outputs": []
    },
    {
      "cell_type": "markdown",
      "metadata": {
        "id": "vPeTZcUMtUKP"
      },
      "source": [
        "#####בשביל הבנה כללית בקשר לנתונים שיש בקובץ\n",
        "#####אנחנו רוצים לראות בצורה סיכומית ממוצעים וסטיות תקן \n",
        "#####  של המשתנים \n",
        "\n",
        " #####  חשוב לשים לב על ערכים קיצוניים לפי משתנים \n",
        "  \n",
        "#####  כמו כן חשוב לראות האם נתונים שלנו מאוזנים \n",
        "#####  זאת אומרת שפחות או יותר מספר אנשים עם סבירות \n",
        "#####  להיתקף לב שווה למספר אנשים עם סבירות נמוכה  \n"
      ]
    },
    {
      "cell_type": "markdown",
      "metadata": {
        "id": "Ml987FDDPDX5"
      },
      "source": [
        "#### Checking for null values"
      ]
    },
    {
      "cell_type": "code",
      "metadata": {
        "id": "ug9E5K_mO9Aj"
      },
      "source": [
        "heart_data[heart_data.isna().any(axis=1)]\n"
      ],
      "execution_count": null,
      "outputs": []
    },
    {
      "cell_type": "markdown",
      "metadata": {
        "id": "awEW7MNgTQJ5"
      },
      "source": [
        "#### בדיקת איכות נתונים לקיום ערכים  חסרים שיכולים לשבש עבודה של אלגוריתמים רבים שמשתמשים בלמידת מכונה"
      ]
    },
    {
      "cell_type": "markdown",
      "metadata": {
        "id": "jqTeZYFzP5zG"
      },
      "source": [
        "#### Checking for duplicates rows"
      ]
    },
    {
      "cell_type": "code",
      "metadata": {
        "id": "UZdI6s2-Ourz"
      },
      "source": [
        "heart_data[heart_data.duplicated()]"
      ],
      "execution_count": null,
      "outputs": []
    },
    {
      "cell_type": "code",
      "metadata": {
        "id": "r2NljVp9Qz43"
      },
      "source": [
        "# Removing the duplicates\n",
        "heart_data.drop_duplicates(keep='first',inplace=True)\n",
        "print(\"The shape of the dataset is after dropping dublicate row: \", heart_data.shape)"
      ],
      "execution_count": null,
      "outputs": []
    },
    {
      "cell_type": "markdown",
      "metadata": {
        "id": "jZ7Zf_BsVRzI"
      },
      "source": [
        "#### בדיקת כפילויות הציפה לנו תצפית כפולה או לפחות זהה ולכן אני מחליט לטפל בתופעה זו על ידי מחיקה של התצפית"
      ]
    },
    {
      "cell_type": "markdown",
      "metadata": {
        "id": "WBWUxL6uOae6"
      },
      "source": [
        "#### Unique value & Data types "
      ]
    },
    {
      "cell_type": "code",
      "metadata": {
        "id": "j2XNcO9p8uBd"
      },
      "source": [
        "\n",
        "unique_val={}\n",
        "for i in (heart_data.columns):\n",
        "    unique_val[i]=heart_data[i].value_counts().shape[0]\n",
        "display(pd.DataFrame(unique_val,index=[\"unique_val\"]))\n",
        "print(\"____________Data type___________\") \n",
        "print(heart_data.info())\n"
      ],
      "execution_count": null,
      "outputs": []
    },
    {
      "cell_type": "markdown",
      "metadata": {
        "id": "Qxfy3kYhRe-v"
      },
      "source": [
        "#### טבלת מספר ערכים יחודיים לפי משתנים בקובץ מספקת \n",
        "####מבט נוסף ותחושה טובה יותר בקשר למשתנים וסוגיהם \n",
        " (כעדות נוספת לקובץ הסבר)\n",
        "#### מהצגה של אינפורמציה על הקובץ אנחנו מזההים שכל המשתנים מוצגים בצורה מספרית כולל קטגורליים \n",
        "\n"
      ]
    },
    {
      "cell_type": "markdown",
      "metadata": {
        "id": "cF8DR-Olg3ZF"
      },
      "source": [
        "#### Creating data by categorical and continuous "
      ]
    },
    {
      "cell_type": "code",
      "metadata": {
        "id": "uMknWa_2kLNr"
      },
      "source": [
        "categorical_features  =[]\n",
        "numeric_features  =[]\n",
        "for column in heart_data.drop(['output'],axis=1).columns:\n",
        "    print('________________________')\n",
        "    print(f\"{column}:{heart_data[column].unique()}\")\n",
        "    if len(heart_data[column].unique())<=10:\n",
        "        categorical_features.append(column)\n",
        "    else:numeric_features .append(column)  \n",
        "print('______Categorical Columns____________')\n",
        "print(categorical_features )  \n",
        "print('________Continuous Columns____________')\n",
        "print(numeric_features )"
      ],
      "execution_count": null,
      "outputs": []
    },
    {
      "cell_type": "code",
      "metadata": {
        "id": "xLUL00d4ATGr"
      },
      "source": [
        "for column in heart_data[categorical_features ].columns:\n",
        "    print('________________________')\n",
        "    print(f\"{column}:{heart_data[column].value_counts()}\")"
      ],
      "execution_count": null,
      "outputs": []
    },
    {
      "cell_type": "markdown",
      "metadata": {
        "id": "RNwRFAOGBvKn"
      },
      "source": [
        ",ביקורת של משתנים קטגורליים מגלה שבשני משתנים קטגוריאליים \n",
        "#####יש יותר קטגוריות מהמוצהר בהסבר מצורף לנתונים\n",
        "##### ,במקרה כזה כמובן הכי טוב להבין איך הדבר הזה נוצר ולדבר עם אחראי על נתונים \n",
        "##### כדי לברר איך נכון להתיחס לנתונים אלו בניתוח\n",
        "##### במקרים רבים אנחנו בטח נקבל תשובה ונפעל עלפיה. \n",
        "##### במקרה נוכחי  אני יכול למחוק את התצפיות שמכילות את הקטגוריות לא \n",
        "##### מזוהות אבל אני מחליט לשמור תצפיות אלו ולהחליף אותם בערך שכיח ביותר \n",
        "\n"
      ]
    },
    {
      "cell_type": "code",
      "metadata": {
        "id": "EtEspPuXoC2u"
      },
      "source": [
        "#replace  unknown category value, with more frequent catergory\n",
        "#  thal: 3 = normal; 6 = fixed defect; 7 = reversable defect \n",
        "\n",
        "heart_data['thall'].replace(0,heart_data['thall'].value_counts().index[0],inplace=True)\n",
        "# ca: number of major vessels (0-3)\n",
        "heart_data['caa'].replace(4,heart_data['caa'].value_counts().index[0],inplace=True)\n",
        "\n"
      ],
      "execution_count": null,
      "outputs": []
    },
    {
      "cell_type": "code",
      "metadata": {
        "id": "JnocZPY5zzFC"
      },
      "source": [
        "\n",
        "print(\"Check vars valuee thall and caa aftr replaycment\\n thall counts:\\n\",heart_data['thall'].value_counts())\n",
        "print('________________________')\n",
        "print('caa counts:\\n',heart_data['caa'].value_counts())"
      ],
      "execution_count": null,
      "outputs": []
    },
    {
      "cell_type": "markdown",
      "metadata": {
        "id": "ilWu4K1oCB1r"
      },
      "source": [
        "**:הערה**\n",
        "##### cp,thal, Slp:במקרה שלנו יש מספר משתנים קוטגוראליים כמו \n",
        "##### שלהם אין התאמה מדוקית בין ערכים בנתונים לאלו שיש בהסבר\n",
        "##### לכן כדי למפותהנחתי שמיפוי לפי סדר מספרי פשוט\n",
        "##### כמובן מצב זה מתאים אך ורק לצורך תרגיל במציאות\n",
        "#####  חשוב לוודא שאנחנו עושים מיפוי מדויק בלי ניחושים מיותרים"
      ]
    },
    {
      "cell_type": "markdown",
      "metadata": {
        "id": "U6uMjfLHWSmG"
      },
      "source": [
        "##### *:סוגי משתנים*\n",
        "*   Continuos -age,trestbps, chol, thalach, oldpeak\n",
        "*   Categorical- cp, restecg, slope, ca, thal,sex, fbs, exang, target\n",
        "\n",
        "**הערה**\n",
        " \n",
        "###### נראה כך שיש מספר משתנים שאפשר להתייחס אליהם כלמשתנים סידוריים\n",
        "###### השערה זו יכולה לשרת אותנו במקרה שנרצה לבנות משתנים נוספים \n",
        "\n",
        "\n",
        "#####ca-Number of major vessels (0–3) colored by fluoroscopy\n",
        "##### SLP-Slope of the peak exercise ST segment\n"
      ]
    },
    {
      "cell_type": "markdown",
      "metadata": {
        "id": "3KepxfWsiu9x"
      },
      "source": [
        "#### Adding  Data natation for  Visualisation"
      ]
    },
    {
      "cell_type": "code",
      "metadata": {
        "id": "4CELVuP5vR72"
      },
      "source": [
        "heart_data_vis=heart_data.copy()\n",
        "\n",
        "heart_data_vis['sex'] = heart_data_vis['sex'].map({0:'0-Female', 1:'1-Male'})\n",
        "heart_data_vis['exng'] = heart_data_vis['exng'].map({0:'0-False', 1:'1-True'})\n",
        "heart_data_vis['cp'] = heart_data_vis['cp'].map({0:'0-typical angina', 1:'1-atypical angina', 2:'2-non-anginal pain', 3:'3-asymptomatic'})\n",
        "heart_data_vis['fbs'] = heart_data_vis['fbs'].map({0:'0-False', 1:'1-True'})\n",
        "heart_data_vis['restecg']=heart_data_vis['restecg'].map({0:'0-normal',1:'1-ST-Twave abnormality',2:'2-Ventricular hypertrophy'})\n",
        "heart_data_vis['output'] = heart_data_vis['output'].map({0:'0-Less Chance', 1:'1-More Chance'})\n",
        "\n",
        "heart_data_vis.head()\n"
      ],
      "execution_count": null,
      "outputs": []
    },
    {
      "cell_type": "code",
      "metadata": {
        "id": "sbURCONLaj32"
      },
      "source": [
        "heart_data_cat=heart_data.copy()"
      ],
      "execution_count": null,
      "outputs": []
    },
    {
      "cell_type": "code",
      "metadata": {
        "id": "PHoTrlfmesi8"
      },
      "source": [
        "heart_data_cat[cat_cols]=heart_data_cat[cat_cols].astype('category')"
      ],
      "execution_count": null,
      "outputs": []
    },
    {
      "cell_type": "code",
      "metadata": {
        "id": "O5kVq6jtgwEG"
      },
      "source": [
        "heart_data_cat.info()"
      ],
      "execution_count": null,
      "outputs": []
    },
    {
      "cell_type": "markdown",
      "metadata": {
        "id": "8VoFeQr30EBk"
      },
      "source": [
        "#### Categorical data visualisation"
      ]
    },
    {
      "cell_type": "code",
      "metadata": {
        "id": "U2tpWFLhtwHj"
      },
      "source": [
        "ax= sns.countplot(x=heart_data_vis['output'],data=heart_data_vis)\n",
        "for bar in ax.patches:\n",
        "    ax.annotate(format(bar.get_height(), ),\n",
        "                   (bar.get_x() + bar.get_width() / 2,\n",
        "                    bar.get_height()), ha='center', va='center',\n",
        "                   size=12, xytext=(0, 10),\n",
        "                   textcoords='offset points',\n",
        "                   fontweight=\"bold\")\n",
        "    plt.title('Target');"
      ],
      "execution_count": null,
      "outputs": []
    },
    {
      "cell_type": "markdown",
      "metadata": {
        "id": "5bI8H3XSHlDv"
      },
      "source": [
        "#### Categorical Frequency"
      ]
    },
    {
      "cell_type": "code",
      "metadata": {
        "id": "k21r8x-VHPde"
      },
      "source": [
        "def graph(name, u, title):\n",
        "    sns.countplot(x=heart_data_vis[name],  ax=u)\n",
        "    \n",
        "    plt.setp(u.get_xticklabels(), rotation=0)\n",
        "    u.set_title(title, fontsize=11, fontdict={\"fontweight\": \"bold\"})\n",
        "    \n",
        "    for p in u.patches:\n",
        "        text = str(int(p.get_height()))\n",
        "        u.annotate(text, (p.get_x()+p.get_width()/2, p.get_height()+3),\n",
        "                   ha=\"center\", va='center', fontsize=10, fontweight=\"bold\")\n",
        "\n",
        "fig2, ax2 = plt.subplots(4,2, figsize=(15, 20), gridspec_kw={\"wspace\" : 0.4, \"hspace\" : 0.3, \"top\": 0.95})\n",
        "\n",
        "colors=[\"#ff0000\",\"#ff8000\",\"#ffff00\",\"#80ff00\",\"#00ff00\", \"#00ff80\", \"#00ffff\", \"#0080ff\", \"#0000ff\", \"#8000ff\", \"#ff00ff\", \"#ff0080\"]\n",
        "\n",
        "graph(\"sex\", ax2[0,0], 'sex')\n",
        "graph(\"exng\", ax2[0,1], 'Exercise induced angina')\n",
        "graph(\"cp\", ax2[1,0], 'Chest Pain Type')\n",
        "graph(\"fbs\", ax2[1,1], 'Fasting Blood Sugar > 120 mg/dl')\n",
        "graph('restecg', ax2[2,0], 'Resting Electrocardiographic Results')\n",
        "graph('caa', ax2[2,1], 'Number of Major Vessels')\n",
        "graph('slp', ax2[3,0], 'Slope')\n",
        "graph('thall', ax2[3,1], 'Thal Rate')\n",
        "plt.rcParams['axes.axisbelow'] = True"
      ],
      "execution_count": null,
      "outputs": []
    },
    {
      "cell_type": "markdown",
      "metadata": {
        "id": "CuTGF7WrUghd"
      },
      "source": [
        "##### Count plot by categorical var and target class"
      ]
    },
    {
      "cell_type": "code",
      "metadata": {
        "id": "btLX6-FR0Cwn"
      },
      "source": [
        "def graph(name, u, title):\n",
        "    sns.countplot(x=heart_data_vis[name], hue=heart_data_vis['output'], ax=u)\n",
        "    \n",
        "    plt.setp(u.get_xticklabels(), rotation=0)\n",
        "    u.set_title(title, fontsize=11, fontdict={\"fontweight\": \"bold\"})\n",
        "    \n",
        "    for p in u.patches:\n",
        "        text = str(int(p.get_height()))\n",
        "        u.annotate(text, (p.get_x()+p.get_width()/2, p.get_height()+3),\n",
        "                   ha=\"center\", va='center', fontsize=10, fontweight=\"bold\")\n",
        "\n",
        "fig2, ax2 = plt.subplots(4,2, figsize=(15, 20), gridspec_kw={\"wspace\" : 0.4, \"hspace\" : 0.3, \"top\": 0.95})\n",
        "\n",
        "colors=[\"#ff0000\",\"#ff8000\",\"#ffff00\",\"#80ff00\",\"#00ff00\", \"#00ff80\", \"#00ffff\", \"#0080ff\", \"#0000ff\", \"#8000ff\", \"#ff00ff\", \"#ff0080\"]\n",
        "\n",
        "graph(\"sex\", ax2[0,0], 'sex')\n",
        "graph(\"exng\", ax2[0,1], 'Exercise induced angina')\n",
        "graph(\"cp\", ax2[1,0], 'Chest Pain Type')\n",
        "graph(\"fbs\", ax2[1,1], 'Fasting Blood Sugar > 120 mg/dl')\n",
        "graph('restecg', ax2[2,0], 'Resting Electrocardiographic Results')\n",
        "graph('caa', ax2[2,1], 'Number of Major Vessels')\n",
        "graph('slp', ax2[3,0], 'Slope')\n",
        "graph('thall', ax2[3,1], 'Thal Rate')\n",
        "plt.rcParams['axes.axisbelow'] = True"
      ],
      "execution_count": null,
      "outputs": []
    },
    {
      "cell_type": "markdown",
      "metadata": {
        "id": "kUN8v70nVA4J"
      },
      "source": [
        "##### Hist plot by categorical var, with percent ratio"
      ]
    },
    {
      "cell_type": "code",
      "metadata": {
        "id": "wtk-etXPBa0B"
      },
      "source": [
        "def graph(name, u, title):\n",
        "    sns.histplot(data=heart_data_vis,x=heart_data_vis[name],hue=heart_data_vis['output'],stat=\"percent\", multiple=\"fill\", shrink=.8, ax=u)\n",
        "    plt.setp(u.get_xticklabels(), rotation=0)\n",
        "    u.set_title(title, fontsize=11, fontdict={\"fontweight\": \"bold\"})    \n",
        "    for p in u.patches:\n",
        "        text = str((p.get_height()))\n",
        "        u.annotate(text, (p.get_x()+p.get_width()/2, p.get_height()+3),\n",
        "                   ha=\"center\", va='center', fontsize=10, fontweight=\"bold\")\n",
        "fig2, ax2 = plt.subplots(4,2, figsize=(15, 20), gridspec_kw={\"wspace\" : 0.4, \"hspace\" : 0.3, \"top\": 0.95})\n",
        "\n",
        "colors=[\"#ff0000\",\"#ff8000\",\"#ffff00\",\"#80ff00\",\"#00ff00\", \"#00ff80\", \"#00ffff\", \"#0080ff\", \"#0000ff\", \"#8000ff\", \"#ff00ff\", \"#ff0080\"]\n",
        "\n",
        "graph(\"sex\", ax2[0,0], 'sex')\n",
        "graph(\"exng\", ax2[0,1], 'Exercise induced angina')\n",
        "graph(\"cp\", ax2[1,0], 'Chest Pain Type')\n",
        "graph(\"fbs\", ax2[1,1], 'Fasting Blood Sugar > 120 mg/dl')\n",
        "graph('restecg', ax2[2,0], 'Resting Electrocardiographic Results')\n",
        "graph('caa', ax2[2,1], 'Number of Major Vessels')\n",
        "graph('slp', ax2[3,0], 'Slope')\n",
        "graph('thall', ax2[3,1], 'Thal Rate')\n",
        "plt.rcParams['axes.axisbelow'] = True"
      ],
      "execution_count": null,
      "outputs": []
    },
    {
      "cell_type": "code",
      "metadata": {
        "id": "xonjieAGFJT0"
      },
      "source": [
        "# The same output by number \n",
        "for name in heart_data_vis[cat_cols].columns:\n",
        "    print(heart_data_vis['output'].groupby(heart_data_vis[name]).value_counts(normalize=True).rename('Precent').reset_index())                        "
      ],
      "execution_count": null,
      "outputs": []
    },
    {
      "cell_type": "markdown",
      "metadata": {
        "id": "YrgU4b9tm5S0"
      },
      "source": [
        "##### Intermediate conclusion"
      ]
    },
    {
      "cell_type": "markdown",
      "metadata": {
        "id": "hVT2BUMYnF1b"
      },
      "source": [
        "#### Continuous data visualation"
      ]
    },
    {
      "cell_type": "code",
      "metadata": {
        "id": "s-T8kkNL2xF5"
      },
      "source": [
        "fig = plt.figure(figsize=(20,10))\n",
        "gs = fig.add_gridspec(1,5)\n",
        "gs.update(wspace=0.3, hspace=0.15)\n",
        "ax0 = fig.add_subplot(gs[0,0])\n",
        "ax1 = fig.add_subplot(gs[0,1])\n",
        "ax2 = fig.add_subplot(gs[0,2])\n",
        "ax3 = fig.add_subplot(gs[0,3]) \n",
        "ax4 = fig.add_subplot(gs[0,4])\n",
        "# ax5 = fig.add_subplot(gs[1,2])\n",
        "\n",
        "# Age \n",
        "ax0.text(-0.05, 81, 'Age', fontsize=14, fontweight='bold', fontfamily='serif', color=\"#000000\")\n",
        "ax0.grid(color='#000000', linestyle=':', axis='y', zorder=0,  dashes=(1,5))\n",
        "sns.boxenplot(ax=ax0,y=heart_data_vis['age'],palette=[\"#800000\"],width=0.6)\n",
        "ax0.set_xlabel(\"\")\n",
        "ax0.set_ylabel(\"\")\n",
        "# Trtbps \n",
        "ax1.text(-0.05, 208, 'Trtbps', fontsize=14, fontweight='bold', fontfamily='serif', color=\"#000000\")\n",
        "ax1.grid(color='#000000', linestyle=':', axis='y', zorder=0,  dashes=(1,5))\n",
        "sns.boxenplot(ax=ax1,y=heart_data_vis['trtbps'],palette=[\"#8000ff\"],width=0.6)\n",
        "ax1.set_xlabel(\"\")\n",
        "ax1.set_ylabel(\"\")\n",
        "# Chol \n",
        "ax2.text(-0.05, 600, 'Chol', fontsize=14, fontweight='bold', fontfamily='serif', color=\"#000000\")\n",
        "ax2.grid(color='#000000', linestyle=':', axis='y', zorder=0,  dashes=(1,5))\n",
        "sns.boxenplot(ax=ax2,y=heart_data_vis['chol'],palette=[\"#6aac90\"],width=0.6)\n",
        "ax2.set_xlabel(\"\")\n",
        "ax2.set_ylabel(\"\")\n",
        "# Thalachh \n",
        "ax3.text(-0.09, 210, 'Thalachh', fontsize=14, fontweight='bold', fontfamily='serif', color=\"#000000\")\n",
        "ax3.grid(color='#000000', linestyle=':', axis='y', zorder=0,  dashes=(1,5))\n",
        "sns.boxenplot(ax=ax3,y=heart_data_vis['thalachh'],palette=[\"#5833ff\"],width=0.6)\n",
        "ax3.set_xlabel(\"\")\n",
        "ax3.set_ylabel(\"\")\n",
        "# oldpeak \n",
        "ax4.text(-0.1, 6.6, 'Oldpeak', fontsize=14, fontweight='bold', fontfamily='serif', color=\"#000000\")\n",
        "ax4.grid(color='#000000', linestyle=':', axis='y', zorder=0,  dashes=(1,5))\n",
        "sns.boxenplot(ax=ax4,y=heart_data_vis['oldpeak'],palette=[\"#da8829\"],width=0.6)\n",
        "ax4.set_xlabel(\"\")\n",
        "ax4.set_ylabel(\"\");"
      ],
      "execution_count": null,
      "outputs": []
    },
    {
      "cell_type": "markdown",
      "metadata": {
        "id": "AeTNuB4VALjf"
      },
      "source": [
        "![Box-Plot.jpg](https://miro.medium.com/max/2400/1*Mn5NoddG6Hlqqld171x-Xg.jpeg)"
      ]
    },
    {
      "cell_type": "markdown",
      "metadata": {
        "id": "IDI5abb7-i6q"
      },
      "source": [
        "##### כפי שניתן לראות בחלק מהמשתנים יש ערכים חריגים\n",
        "##### עובדה זו יכולה לשבש עבודה של אלגוריתם \n",
        "#####  **RobustScaler** :ולכן אשתמש ב \n",
        "##### **value = (value – median) / (Q3 – Q1)**\n",
        "##### כתוצאה מקבלים ממוצע וחציון שווים לאפס וסטיית תקן של 1\n",
        "##### ובנוסף ערכים קיצוניים מיוצגים בנתונים"
      ]
    },
    {
      "cell_type": "markdown",
      "metadata": {
        "id": "BikD9KuK8fK9"
      },
      "source": [
        "KNN נקודה נוספת חשובה בקשר לערכים קיצוניים של \n",
        "####[Impact of Outliers ](https://becominghuman.ai/all-you-need-to-know-about-k-nn-machine-learning-algorithm-40c3ca45131e):\n",
        "###### If ‘K’ value is low, the model is susceptible to outliers.\n",
        "##### If ‘K’ value is high, the model is robust to outliers.\n",
        "##### Why is it so??\n",
        "Let take K=1, suppose there is 1 outlier near to our test point and then the model predicts the label corresponding to the outlier. In this same scenario if we take K=7, there will be other 6 nearest neighbors(not outliers) and 1 outlier in the neighborhood of test point and when we take the majority vote we tend to get the result based on 6 nearest neighbors."
      ]
    },
    {
      "cell_type": "markdown",
      "metadata": {
        "id": "GPvWc91XMQQo"
      },
      "source": [
        "**AGE**:ניתן לראות שרוב האנשים באוכלוסיה הנחקרת נמצאים בטווח גלאים 50-60\n"
      ]
    },
    {
      "cell_type": "code",
      "metadata": {
        "id": "KvjQAEcCm3Rq"
      },
      "source": [
        "sns.pairplot(data=heart_data_vis[['age', 'trtbps', 'chol', 'thalachh', 'oldpeak','output']],hue='output');"
      ],
      "execution_count": null,
      "outputs": []
    },
    {
      "cell_type": "code",
      "metadata": {
        "id": "w8so2u__pP7I"
      },
      "source": [
        "plt.figure(figsize=(16,12))\n",
        "sns.heatmap(data=heart_data_vis[numeric_features + ['caa','slp']].corr(),annot=True)\n",
        "plt.title('Correlation matrix between variebls');\n"
      ],
      "execution_count": null,
      "outputs": []
    },
    {
      "cell_type": "code",
      "metadata": {
        "id": "_ojpTT7d09T_"
      },
      "source": [
        "plt.figure(figsize=(14,8))\n",
        "\n",
        "sns.histplot(data=heart_data_vis, x=\"age\", hue=\"output\",bins=4,);\n",
        "#sns.jointplot(x='age',y='trtbps',data=heart_data_vis,hue='output')        \n"
      ],
      "execution_count": null,
      "outputs": []
    },
    {
      "cell_type": "markdown",
      "metadata": {
        "id": "1GnOUqACiEax"
      },
      "source": [
        "#Data Preparation"
      ]
    },
    {
      "cell_type": "code",
      "metadata": {
        "id": "HAaOwDM1CtnB"
      },
      "source": [
        "from sklearn.compose  import ColumnTransformer #column subsets  that transformed separately and the features generated by each transformer will be concatenated to form a single feature space. \n",
        "from sklearn.pipeline import Pipeline\n",
        "from sklearn.preprocessing import  StandardScaler, OneHotEncoder, RobustScaler\n",
        "from sklearn.model_selection import train_test_split, GridSearchCV\n",
        "from sklearn.neighbors import KNeighborsClassifier\n",
        "\n",
        "from sklearn.metrics import classification_report, confusion_matrix, accuracy_score, roc_curve, roc_auc_score\n",
        "from sklearn import metrics\n"
      ],
      "execution_count": null,
      "outputs": []
    },
    {
      "cell_type": "markdown",
      "metadata": {
        "id": "Kn3_GGf771re"
      },
      "source": [
        "##Scaling and encoding dataset"
      ]
    },
    {
      "cell_type": "code",
      "metadata": {
        "id": "RimQ1Hn3XG92"
      },
      "source": [
        "categorical_features \n",
        "numeric_features "
      ],
      "execution_count": null,
      "outputs": []
    },
    {
      "cell_type": "code",
      "metadata": {
        "id": "CLISBMoaXeoe"
      },
      "source": [
        "numeric_transformer =Pipeline(steps=[('scaler',RobustScaler())])\n",
        "categorical_transformer=Pipeline(steps=[('onehot',OneHotEncoder(handle_unknown='ignore'))])\n",
        "prep=ColumnTransformer(transformers=[('num',numeric_transformer,numeric_features ),\n",
        "                                     ('cat',categorical_transformer,categorical_features)])\n",
        "\n",
        "heart_data_prep=heart_data.copy()\n",
        "print(\"OrigDataset\",heart_data_prep.head(1))\n",
        "X=heart_data_prep.drop('output',axis=1)\n",
        "print(\"X - columns:\",X.columns)\n",
        "y=heart_data_prep['output']\n",
        "print(\"y-target name:\",y.name)\n",
        "\n",
        "X_train, X_test, y_train, y_test = train_test_split(X, y, test_size=0.2, random_state=42)\n",
        "X_train=prep.fit_transform(X_train)\n",
        "X_test=prep.transform(X_test)"
      ],
      "execution_count": null,
      "outputs": []
    },
    {
      "cell_type": "code",
      "metadata": {
        "id": "y6eRxWk1gegz"
      },
      "source": [
        "X_train[:2]"
      ],
      "execution_count": null,
      "outputs": []
    },
    {
      "cell_type": "code",
      "metadata": {
        "id": "dp4NvyeMipy6"
      },
      "source": [
        "nn="
      ],
      "execution_count": null,
      "outputs": []
    },
    {
      "cell_type": "code",
      "metadata": {
        "id": "LXcSWwIcRzA4"
      },
      "source": [
        "#test12082021\n",
        "heart_data_prep_test=heart_data.copy()\n",
        "print(\"OrigDataset\",heart_data_prep_test.head(1))\n",
        "X=heart_data_prep_test.drop('output',axis=1)\n",
        "print(\"X - columns:\",X.columns)\n",
        "y=heart_data_prep_test['output']\n",
        "print(\"y target name:\",y.name)\n",
        "\n",
        "X_train, X_test, y_train, y_test = train_test_split(X, y, test_size=0.2, random_state=42)\n",
        "sc=RobustScaler()\n",
        "X_train=sc.fit_transform(X_train)\n",
        "X_test=sc.transform(X_test)\n",
        "X_train[:2]"
      ],
      "execution_count": null,
      "outputs": []
    },
    {
      "cell_type": "code",
      "metadata": {
        "id": "xTdVqkcnS1yF"
      },
      "source": [
        "X_train[:2]"
      ],
      "execution_count": null,
      "outputs": []
    },
    {
      "cell_type": "code",
      "metadata": {
        "id": "Wj89N1HndAh5"
      },
      "source": [
        "#test\n",
        "heart_data_prep_test=heart_data.copy()\n",
        "print(\"OrigDataset\",heart_data_prep_test.head(1))\n",
        "X=heart_data_prep_test.drop('output',axis=1)\n",
        "print(\"X - columns:\",X.columns)\n",
        "y=heart_data_prep_test['output']\n",
        "print(\"y target name:\",y.name)\n",
        "\n",
        "X_train, X_test, y_train, y_test = train_test_split(X, y, test_size=0.2, random_state=42)\n",
        "sc=StandardScaler()\n",
        "X_train=sc.fit_transform(X_train)\n",
        "X_test=sc.transform(X_test)\n",
        "X_train[:2]\n",
        "\n",
        "knn=KNeighborsClassifier()\n",
        "knn.fit(X_train,y_train)\n",
        "print(\"Train score\", knn.score(X_train,y_train))\n",
        "print(\"Test score\",knn.score(X_test,y_test))\n",
        "y_pred= knn.predict(X_test)\n",
        "print(confusion_matrix(y_test,y_pred))\n",
        "\n",
        "knn.predict_proba(X_test)[:5]"
      ],
      "execution_count": null,
      "outputs": []
    },
    {
      "cell_type": "code",
      "metadata": {
        "id": "MOt4rkZedVfh"
      },
      "source": [
        "#test grid\n",
        "grid_params={\n",
        "    'n_neighbors':list(range(20)),\n",
        "    'weights':['uniform','distance'],\n",
        "    'metric':['euclidian','manhattan']\n",
        "}\n",
        "\n",
        "gs=GridSearchCV(\n",
        "    KNeighborsClassifier(),\n",
        "    grid_params,\n",
        "    verbose=1,\n",
        "    cv= 20 \n",
        ")\n",
        "\n",
        "gs_result=gs.fit(X_train,y_train)\n",
        "gs_result.best_score_\n",
        "gs_result.best_estimator_\n",
        "gs_result.best_params_\n",
        "gs_pred=gs.predict(X_test)\n",
        "acc=accuracy_score(gs_pred,y_test)\n",
        "print(\"Accuracy\",acc)\n"
      ],
      "execution_count": null,
      "outputs": []
    },
    {
      "cell_type": "code",
      "metadata": {
        "id": "ACe8TPVtdVAs"
      },
      "source": [
        ""
      ],
      "execution_count": null,
      "outputs": []
    },
    {
      "cell_type": "code",
      "metadata": {
        "id": "6qNvrkkOrSbD"
      },
      "source": [
        ""
      ],
      "execution_count": null,
      "outputs": []
    },
    {
      "cell_type": "code",
      "metadata": {
        "id": "u-ptdAyBrSS5"
      },
      "source": [
        ""
      ],
      "execution_count": null,
      "outputs": []
    },
    {
      "cell_type": "code",
      "metadata": {
        "id": "2i6KWY94yvh-"
      },
      "source": [
        "heart_data_prep=heart_data.copy()\n",
        "print('list of categorical columns:',categorical_features)\n",
        "print('list of continuous  columns:',numeric_features ) \n",
        "# defining data X y with  train and test data\n",
        "X=heart_data_prep.drop(['output'],axis=1)\n",
        "X=X.values\n",
        "y=heart_data_prep['output']\n",
        "y=y.values\n",
        "X_train, X_test, y_train, y_test = train_test_split( X, y, test_size=0.30,stratify=y, random_state=42)\n",
        "print('original size dataset:',X.shape)\n",
        "print('size of train dataset:',X_train.shape)"
      ],
      "execution_count": null,
      "outputs": []
    },
    {
      "cell_type": "code",
      "metadata": {
        "id": "NqdC8b9QEwh7"
      },
      "source": [
        "X\n"
      ],
      "execution_count": null,
      "outputs": []
    },
    {
      "cell_type": "code",
      "metadata": {
        "id": "rqcGNkCdiFYB"
      },
      "source": [
        "\n",
        "numeric_features =  (\"scaler\", RobustScaler(), remainder='passthrough')\n",
        "categorical_transformer = (OneHotEncoder(handle_unknown=\"ignore\"), remainder='passthrough')\n",
        "\n",
        "preprocessor =ColumnTransformer(\n",
        "    transformers=([\n",
        "                  (\"con\",con_cols_transformer,con_cols),\n",
        "                  (\"cat\",cat_cols_transformer,cat_cols),]\n",
        "        )\n",
        ")\n",
        "\n",
        "# Append classifier to preprocessing pipeline.\n",
        "\n",
        "knn_pipe =Pipeline(\n",
        "    steps=[(\"preprocessor\",preprocessor), \n",
        "           (\"knn\", KNeighborsClassifier()),] )\n",
        "\n",
        "params = [{'knn__n_neighbors':[3, 5, 7, 9],\n",
        "         }]\n",
        "\n",
        "gs_knn = GridSearchCV(knn_pipe,\n",
        "                      param_grid=params,\n",
        "                      scoring='accuracy',\n",
        "                      cv=5)\n",
        "\n",
        "gs_knn.fit(X_train,  y_train)\n",
        "gs_knn.best_params_\n",
        "\n",
        "gs_knn.score(X_train, y_train)"
      ],
      "execution_count": null,
      "outputs": []
    },
    {
      "cell_type": "code",
      "metadata": {
        "id": "CkJ4P8axJbDO"
      },
      "source": [
        "params = [{'knn__n_neighbors':[3, 5, 7, 9],\n",
        "         'knn__weights': ['uniform', 'distance'],\n",
        "         'metric':['euclidean','manhattan']}]"
      ],
      "execution_count": null,
      "outputs": []
    },
    {
      "cell_type": "code",
      "metadata": {
        "id": "__ILAjyFJVET"
      },
      "source": [
        "np.arange(20)"
      ],
      "execution_count": null,
      "outputs": []
    },
    {
      "cell_type": "code",
      "metadata": {
        "id": "-i7BQOXO5V_L"
      },
      "source": [
        "preprocessor"
      ],
      "execution_count": null,
      "outputs": []
    },
    {
      "cell_type": "code",
      "metadata": {
        "id": "zgQAWBLZ9iUh"
      },
      "source": [
        "heart_data_prep.head()"
      ],
      "execution_count": null,
      "outputs": []
    },
    {
      "cell_type": "code",
      "metadata": {
        "id": "4qlLAcTQh5yW"
      },
      "source": [
        "#Data Preparation"
      ],
      "execution_count": null,
      "outputs": []
    },
    {
      "cell_type": "code",
      "metadata": {
        "id": "-s_Yb84DiAQu"
      },
      "source": [
        ""
      ],
      "execution_count": null,
      "outputs": []
    },
    {
      "cell_type": "markdown",
      "metadata": {
        "id": "F5_ubZOmiOPJ"
      },
      "source": [
        "# Modeling"
      ]
    },
    {
      "cell_type": "code",
      "metadata": {
        "id": "mjzGbvTPiSl3"
      },
      "source": [
        ""
      ],
      "execution_count": null,
      "outputs": []
    },
    {
      "cell_type": "markdown",
      "metadata": {
        "id": "YjXk8qxoiXml"
      },
      "source": [
        "#Evaluation"
      ]
    },
    {
      "cell_type": "code",
      "metadata": {
        "id": "is1-TvDUiZDO"
      },
      "source": [
        ""
      ],
      "execution_count": null,
      "outputs": []
    }
  ]
}